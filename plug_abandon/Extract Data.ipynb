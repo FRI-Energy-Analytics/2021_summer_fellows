{
 "cells": [
  {
   "cell_type": "markdown",
   "id": "249a6849",
   "metadata": {},
   "source": [
    "This notebook will unzip all well map data as folders and delete the zip files afterward."
   ]
  },
  {
   "cell_type": "markdown",
   "id": "ce753746",
   "metadata": {},
   "source": [
    "All it requires is that you've already downloaded the data, where the well zips are in a folder named \"Wells\" and the map zips are in a folder named \"Maps\"."
   ]
  },
  {
   "cell_type": "markdown",
   "id": "6769bd56",
   "metadata": {},
   "source": [
    "This will all help with accessing the files for later use."
   ]
  },
  {
   "cell_type": "code",
   "execution_count": 1,
   "id": "a96f6dba",
   "metadata": {},
   "outputs": [],
   "source": [
    "import os\n",
    "from os import listdir\n",
    "from zipfile import ZipFile"
   ]
  },
  {
   "cell_type": "markdown",
   "id": "2b6e5630",
   "metadata": {},
   "source": [
    "Unzips all well files:"
   ]
  },
  {
   "cell_type": "code",
   "execution_count": 2,
   "id": "85774f7c",
   "metadata": {},
   "outputs": [],
   "source": [
    "for x in listdir('Wells'):\n",
    "    if x.endswith('.zip'):\n",
    "        with ZipFile('Wells\\well'+x[4:], 'r') as zip_ref:\n",
    "            zip_ref.extractall('Wells\\well'+x[4:7])\n",
    "        os.remove('Wells\\well'+x[4:])"
   ]
  },
  {
   "cell_type": "markdown",
   "id": "689e43b8",
   "metadata": {},
   "source": [
    "Unzips all map files:"
   ]
  },
  {
   "cell_type": "code",
   "execution_count": 3,
   "id": "8678a2df",
   "metadata": {},
   "outputs": [],
   "source": [
    "for x in listdir('Maps'):\n",
    "    if x.endswith('.zip'):\n",
    "        with ZipFile('Maps\\Basemap'+x[7:], 'r') as zip_ref:\n",
    "            zip_ref.extractall('Maps\\Basemap'+x[7:10])\n",
    "        os.remove('Maps\\Basemap'+x[7:])"
   ]
  },
  {
   "cell_type": "code",
   "execution_count": null,
   "id": "162f584d",
   "metadata": {},
   "outputs": [],
   "source": []
  }
 ],
 "metadata": {
  "kernelspec": {
   "display_name": "Python 3",
   "language": "python",
   "name": "python3"
  },
  "language_info": {
   "codemirror_mode": {
    "name": "ipython",
    "version": 3
   },
   "file_extension": ".py",
   "mimetype": "text/x-python",
   "name": "python",
   "nbconvert_exporter": "python",
   "pygments_lexer": "ipython3",
   "version": "3.7.10"
  }
 },
 "nbformat": 4,
 "nbformat_minor": 5
}
