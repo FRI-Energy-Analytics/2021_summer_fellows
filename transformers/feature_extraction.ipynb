{
 "cells": [
  {
   "cell_type": "markdown",
   "id": "236c9432-d230-4d56-b07e-287c7bb25413",
   "metadata": {},
   "source": [
    "# We need to explore more possible datasets that we could possibly use"
   ]
  },
  {
   "cell_type": "code",
   "execution_count": 1,
   "id": "9c218607-8f19-45a8-a23c-4cdfad675676",
   "metadata": {},
   "outputs": [],
   "source": [
    "from welly import Project, Well\n",
    "import glob\n",
    "from tqdm.notebook import tqdm\n",
    "import pandas as pd\n",
    "from contextlib import suppress\n",
    "from multiprocessing.pool import Pool\n",
    "import matplotlib.pyplot as plt\n",
    "import pickle\n",
    "import os"
   ]
  },
  {
   "cell_type": "code",
   "execution_count": 2,
   "id": "144f229a-685d-47bf-b237-0ba8f414cc0a",
   "metadata": {},
   "outputs": [],
   "source": [
    "def create_project(year):\n",
    "    wells = []\n",
    "    for name in tqdm(glob.glob(f\"logs/{year}/*.las\")):\n",
    "        try:\n",
    "            wells.append(Well.from_las(name, index=\"f\"))\n",
    "        except:\n",
    "            pass\n",
    "    p = Project(wells)\n",
    "    return p, wells"
   ]
  },
  {
   "cell_type": "markdown",
   "id": "c208412c-547d-45ec-8c4c-1fee6c523d04",
   "metadata": {},
   "source": [
    "## Choose the year "
   ]
  },
  {
   "cell_type": "code",
   "execution_count": 3,
   "id": "70c7f9f6-4012-4378-b4a3-aa8778b52064",
   "metadata": {},
   "outputs": [],
   "source": [
    "year = 2016"
   ]
  },
  {
   "cell_type": "code",
   "execution_count": 4,
   "id": "167c77dc-8e11-4dce-9c03-e57dff413efe",
   "metadata": {},
   "outputs": [
    {
     "data": {
      "application/vnd.jupyter.widget-view+json": {
       "model_id": "82a62caa92444603a8beb7c0e4cb75bb",
       "version_major": 2,
       "version_minor": 0
      },
      "text/plain": [
       "  0%|          | 0/2283 [00:00<?, ?it/s]"
      ]
     },
     "metadata": {},
     "output_type": "display_data"
    },
    {
     "name": "stderr",
     "output_type": "stream",
     "text": [
      "/home/fastfist/.local/share/virtualenvs/transformers-kgQS_UHh/lib/python3.8/site-packages/welly/curve.py:216: UserWarning: Irregular sampling in depth is not supported. Interpolating to regular basis.\n",
      "  warnings.warn(m)\n",
      "/home/fastfist/.local/share/virtualenvs/transformers-kgQS_UHh/lib/python3.8/site-packages/lasio/las.py:284: FutureWarning: elementwise comparison failed; returning scalar instead, but in the future will perform elementwise comparison\n",
      "  arr[arr == provisional_null] = np.nan\n"
     ]
    }
   ],
   "source": [
    "p, wells = create_project(year)"
   ]
  },
  {
   "cell_type": "code",
   "execution_count": 5,
   "id": "552ea3cd",
   "metadata": {},
   "outputs": [],
   "source": [
    "curves = pd.read_csv(f\"meta_tags/{year}/all_attr_curves.csv\")\n",
    "well   = pd.read_csv(f\"meta_tags/{year}/all_attr_well.csv\")"
   ]
  },
  {
   "cell_type": "markdown",
   "id": "812f4d38-cd71-49c9-9744-773e7df01177",
   "metadata": {},
   "source": [
    "# Look at some metavalues and curves"
   ]
  },
  {
   "cell_type": "code",
   "execution_count": 6,
   "id": "79221cc4-6f25-488e-a975-5c48a57254e5",
   "metadata": {},
   "outputs": [
    {
     "data": {
      "text/html": [
       "<div>\n",
       "<style scoped>\n",
       "    .dataframe tbody tr th:only-of-type {\n",
       "        vertical-align: middle;\n",
       "    }\n",
       "\n",
       "    .dataframe tbody tr th {\n",
       "        vertical-align: top;\n",
       "    }\n",
       "\n",
       "    .dataframe thead th {\n",
       "        text-align: right;\n",
       "    }\n",
       "</style>\n",
       "<table border=\"1\" class=\"dataframe\">\n",
       "  <thead>\n",
       "    <tr style=\"text-align: right;\">\n",
       "      <th></th>\n",
       "      <th>Name</th>\n",
       "      <th>Frequency</th>\n",
       "    </tr>\n",
       "  </thead>\n",
       "  <tbody>\n",
       "    <tr>\n",
       "      <th>0</th>\n",
       "      <td>DEPT</td>\n",
       "      <td>2077</td>\n",
       "    </tr>\n",
       "    <tr>\n",
       "      <th>6</th>\n",
       "      <td>GR</td>\n",
       "      <td>1961</td>\n",
       "    </tr>\n",
       "    <tr>\n",
       "      <th>14</th>\n",
       "      <td>SP</td>\n",
       "      <td>1756</td>\n",
       "    </tr>\n",
       "    <tr>\n",
       "      <th>5</th>\n",
       "      <td>DPOR</td>\n",
       "      <td>1548</td>\n",
       "    </tr>\n",
       "    <tr>\n",
       "      <th>12</th>\n",
       "      <td>RLL3</td>\n",
       "      <td>1495</td>\n",
       "    </tr>\n",
       "    <tr>\n",
       "      <th>10</th>\n",
       "      <td>RILD</td>\n",
       "      <td>1491</td>\n",
       "    </tr>\n",
       "    <tr>\n",
       "      <th>11</th>\n",
       "      <td>RILM</td>\n",
       "      <td>1490</td>\n",
       "    </tr>\n",
       "    <tr>\n",
       "      <th>9</th>\n",
       "      <td>RHOC</td>\n",
       "      <td>1490</td>\n",
       "    </tr>\n",
       "    <tr>\n",
       "      <th>4</th>\n",
       "      <td>DCAL</td>\n",
       "      <td>1490</td>\n",
       "    </tr>\n",
       "    <tr>\n",
       "      <th>8</th>\n",
       "      <td>RHOB</td>\n",
       "      <td>1460</td>\n",
       "    </tr>\n",
       "  </tbody>\n",
       "</table>\n",
       "</div>"
      ],
      "text/plain": [
       "    Name  Frequency\n",
       "0   DEPT       2077\n",
       "6     GR       1961\n",
       "14    SP       1756\n",
       "5   DPOR       1548\n",
       "12  RLL3       1495\n",
       "10  RILD       1491\n",
       "11  RILM       1490\n",
       "9   RHOC       1490\n",
       "4   DCAL       1490\n",
       "8   RHOB       1460"
      ]
     },
     "execution_count": 6,
     "metadata": {},
     "output_type": "execute_result"
    }
   ],
   "source": [
    "curves.sort_values(by=[\"Frequency\", \"Name\"], ascending=False).head(10)"
   ]
  },
  {
   "cell_type": "code",
   "execution_count": 7,
   "id": "82a1f933-2a45-4b7e-a27c-0caa646d0179",
   "metadata": {},
   "outputs": [
    {
     "data": {
      "text/html": [
       "<div>\n",
       "<style scoped>\n",
       "    .dataframe tbody tr th:only-of-type {\n",
       "        vertical-align: middle;\n",
       "    }\n",
       "\n",
       "    .dataframe tbody tr th {\n",
       "        vertical-align: top;\n",
       "    }\n",
       "\n",
       "    .dataframe thead th {\n",
       "        text-align: right;\n",
       "    }\n",
       "</style>\n",
       "<table border=\"1\" class=\"dataframe\">\n",
       "  <thead>\n",
       "    <tr style=\"text-align: right;\">\n",
       "      <th></th>\n",
       "      <th>Name</th>\n",
       "      <th>Frequency</th>\n",
       "    </tr>\n",
       "  </thead>\n",
       "  <tbody>\n",
       "    <tr>\n",
       "      <th>5</th>\n",
       "      <td>WELL</td>\n",
       "      <td>2278</td>\n",
       "    </tr>\n",
       "    <tr>\n",
       "      <th>0</th>\n",
       "      <td>STRT</td>\n",
       "      <td>2278</td>\n",
       "    </tr>\n",
       "    <tr>\n",
       "      <th>1</th>\n",
       "      <td>STOP</td>\n",
       "      <td>2278</td>\n",
       "    </tr>\n",
       "    <tr>\n",
       "      <th>2</th>\n",
       "      <td>STEP</td>\n",
       "      <td>2278</td>\n",
       "    </tr>\n",
       "    <tr>\n",
       "      <th>7</th>\n",
       "      <td>LOC</td>\n",
       "      <td>2278</td>\n",
       "    </tr>\n",
       "    <tr>\n",
       "      <th>6</th>\n",
       "      <td>FLD</td>\n",
       "      <td>2278</td>\n",
       "    </tr>\n",
       "    <tr>\n",
       "      <th>4</th>\n",
       "      <td>COMP</td>\n",
       "      <td>2278</td>\n",
       "    </tr>\n",
       "    <tr>\n",
       "      <th>3</th>\n",
       "      <td>NaN</td>\n",
       "      <td>2278</td>\n",
       "    </tr>\n",
       "    <tr>\n",
       "      <th>12</th>\n",
       "      <td>STAT</td>\n",
       "      <td>2271</td>\n",
       "    </tr>\n",
       "    <tr>\n",
       "      <th>10</th>\n",
       "      <td>DATE</td>\n",
       "      <td>2267</td>\n",
       "    </tr>\n",
       "  </tbody>\n",
       "</table>\n",
       "</div>"
      ],
      "text/plain": [
       "    Name  Frequency\n",
       "5   WELL       2278\n",
       "0   STRT       2278\n",
       "1   STOP       2278\n",
       "2   STEP       2278\n",
       "7    LOC       2278\n",
       "6    FLD       2278\n",
       "4   COMP       2278\n",
       "3    NaN       2278\n",
       "12  STAT       2271\n",
       "10  DATE       2267"
      ]
     },
     "execution_count": 7,
     "metadata": {},
     "output_type": "execute_result"
    }
   ],
   "source": [
    "well.sort_values(by=[\"Frequency\", \"Name\"], ascending=False).head(10)"
   ]
  },
  {
   "cell_type": "markdown",
   "id": "f8ba7e65-6ebe-4f00-943e-cd3fd32047fa",
   "metadata": {},
   "source": [
    "# Lets work on Extracting Curves first\n",
    "\n",
    "The curves provider far more information when compared to the Well data, especially since the meta extration does not account for empty frames attributes that were included by default"
   ]
  },
  {
   "cell_type": "code",
   "execution_count": 8,
   "id": "61640bac-6d8c-45ef-80db-5dd8e3d32bf0",
   "metadata": {},
   "outputs": [
    {
     "data": {
      "text/plain": [
       "'37.110232762406675 % Reduction'"
      ]
     },
     "execution_count": 8,
     "metadata": {},
     "output_type": "execute_result"
    }
   ],
   "source": [
    "keys = {\n",
    "    \"Gamma\",       # Gamma Ray\n",
    "    \"Resist\",      # Deep / Medium Resistivity\n",
    "    \"Shallow\",     # Shallow Resistivity\n",
    "    \"SP\",          # Sponatenous Potential\n",
    "    \"Caliper\",     # CDL Caliper (Hole has not washed out/blown ou t)\n",
    "    \"Density Corr\",# Density Correction\n",
    "    \"Density Por\"  # Density Porosity\n",
    "}\n",
    "\n",
    "alias = {\n",
    "    \"Gamma\": [\"GRGC\", \"GR\", \"GRGC\", \"GAMMARAY\", \"GRE\", \"GRGM\", \"GK1\", \"GRX\", \"G/R\", \"GAMMA\", \"GR_EDTC\", \"GAMMA:2\", \"GR:1\", \"GRGC:1\"],\n",
    "    \"Resist\": [\"RILD\", \"RILM\"],\n",
    "    \"Shallow\": [\"RLL3\"],\n",
    "    \"Caliper\": [\"DCAL\"],\n",
    "    \"Density Corr\": [\"RHOC\"],\n",
    "    \"Density Por\": [\"DPOR\"]\n",
    "}\n",
    "filtered_project = p.filter_wells_by_data(keys, alias=alias, func='all')\n",
    "# Lets see how much data we lose from this reduction\n",
    "f\"{len(p.filter_wells_by_data(keys, alias=alias, func='nall')) *100/ len(p)} % Reduction\""
   ]
  },
  {
   "cell_type": "code",
   "execution_count": 9,
   "id": "babd9160-c373-42fd-86bf-b5929115e549",
   "metadata": {},
   "outputs": [],
   "source": [
    "from collections import Counter\n",
    "\"\"\"\n",
    "Quick method to create a counter object out of the well curves\n",
    "\"\"\"\n",
    "def find_well_similarities(project) -> Counter:\n",
    "    attr = []\n",
    "    for well in project:\n",
    "        attr.extend(well.get_mnemonics_from_regex(\".*\")) # This gives us all the wells (Couldn't find a better way)\n",
    "    return Counter(attr)    "
   ]
  },
  {
   "cell_type": "markdown",
   "id": "b7bbb430-2809-477a-a99f-9ad5da7f0dad",
   "metadata": {},
   "source": [
    "What other things can we ad into this dataset without a large loss?"
   ]
  },
  {
   "cell_type": "code",
   "execution_count": 10,
   "id": "164c6238-c7bb-4615-ab25-94e99c2061bb",
   "metadata": {
    "tags": []
   },
   "outputs": [
    {
     "data": {
      "text/plain": [
       "[('DCAL', 1432),\n",
       " ('DPOR', 1432),\n",
       " ('RHOC', 1432),\n",
       " ('RILD', 1432),\n",
       " ('RLL3', 1432),\n",
       " ('SP', 1432),\n",
       " ('RILM', 1431),\n",
       " ('GR', 1430),\n",
       " ('RHOB', 1218),\n",
       " ('RXORT', 1210),\n",
       " ('AVTX', 1004),\n",
       " ('BVTX', 1004),\n",
       " ('MI', 987),\n",
       " ('MN', 987),\n",
       " ('MCAL', 975),\n",
       " ('CILD', 946),\n",
       " ('CNLS', 936),\n",
       " ('DGA', 673),\n",
       " ('DT', 565),\n",
       " ('SPOR', 565),\n",
       " ('ITT', 562),\n",
       " ('CNPOR', 370),\n",
       " ('MEL15', 243),\n",
       " ('MEL20', 243),\n",
       " ('MELCAL', 242),\n",
       " ('NPOR', 211),\n",
       " ('CNSS', 197),\n",
       " ('CNDL', 196),\n",
       " ('ABHV', 189),\n",
       " ('TBHV', 188),\n",
       " ('LSPD', 87),\n",
       " ('LTEN', 87),\n",
       " ('PE', 86),\n",
       " ('SSD', 58),\n",
       " ('MINMK', 9),\n",
       " ('RWA', 6),\n",
       " ('LSD', 5),\n",
       " ('XPLITHO', 3),\n",
       " ('RXO\\\\RT', 3),\n",
       " ('PEF', 2),\n",
       " ('ADPTH', 2),\n",
       " ('NEU', 2),\n",
       " ('UNKNOWN', 1),\n",
       " ('DEVI', 1),\n",
       " ('TT1', 1),\n",
       " ('GR:1', 1),\n",
       " ('GR:2', 1),\n",
       " ('HVOLTA', 1),\n",
       " ('CILM', 1),\n",
       " ('CLL3', 1),\n",
       " ('LSDEN', 1),\n",
       " ('SSDEN', 1),\n",
       " ('LSPOR', 1),\n",
       " ('SSPOR', 1),\n",
       " ('HEADVOLT', 1),\n",
       " ('GRGC', 1)]"
      ]
     },
     "execution_count": 10,
     "metadata": {},
     "output_type": "execute_result"
    }
   ],
   "source": [
    "find_well_similarities(filtered_project).most_common()"
   ]
  },
  {
   "cell_type": "markdown",
   "id": "8040a231-25c2-4ac4-9912-301cfd62bd25",
   "metadata": {},
   "source": [
    "# Check Diversity\n",
    "\n",
    "I am possibly worried that due to the reductions made, the now filtered wells could be biased based upon company/location drilled in. Lets make density maps of this once again to ensure this has not happened"
   ]
  },
  {
   "cell_type": "code",
   "execution_count": 11,
   "id": "aba0ec25-fddb-4a61-9668-153618306083",
   "metadata": {},
   "outputs": [],
   "source": [
    "corrections = {\n",
    "    \"ELI WIRELINE\": \"NA\",\n",
    "    \"LGAN\": \"LOGAN\",\n",
    "    \"SALINA\": \"SALINE\",\n",
    "    \"HARPER CO\": \"HARPER\",\n",
    "    \"HARPER CO.\": \"HARPER\",\n",
    "    \"SUMMER\": \"SUMNER\",\n",
    "    \"SEDOWICK\": \"SEDGWICK\",\n",
    "    \"ELLS\": \"ELLIS\",\n",
    "    \"NESS CO.\": \"NESS\",\n",
    "    '': \"NA\",\n",
    "    \"HODGMAN\": \"HODGEMAN\",\n",
    "    \"USA\" : \"NA\",\n",
    "    \"KANSAS\" : \"NA\",\n",
    "    \"RUSSEL\" : \"RUSSELL\",\n",
    "    \"PRATT COUNTY\" : \"PRATT\",\n",
    "    \"WITCHITA\" : \"WICHITA\",\n",
    "    \"RUCH\" : \"RUSH\",\n",
    "    \"RAWLINGS\" : \"RAWLINS\",\n",
    "    \"KEARNEY\": \"KEARNY\",\n",
    "    \"STATON\": \"STANTON\"\n",
    "}\n",
    "\n",
    "all_locations = [ getattr(well.location, 'county', \"NA\").upper() for well in filtered_project]\n",
    "all_locations = [ corrections.get(loc, loc) for loc in all_locations]\n",
    "location_count = Counter(all_locations)\n",
    "\n",
    "\n",
    "raw_locations = [ getattr(well.location, 'county', \"NA\").upper() for well in p]\n",
    "raw_locations = [ corrections.get(loc, loc) for loc in raw_locations]\n",
    "raw_location_count = Counter(raw_locations)"
   ]
  },
  {
   "cell_type": "code",
   "execution_count": 12,
   "id": "8a47f9d8-1b56-4957-95a8-92fc38a6efc8",
   "metadata": {},
   "outputs": [
    {
     "data": {
      "text/plain": [
       "<AxesSubplot:>"
      ]
     },
     "execution_count": 12,
     "metadata": {},
     "output_type": "execute_result"
    },
    {
     "data": {
      "image/png": "[encoded data removed]",
      "text/plain": [
       "<Figure size 432x288 with 1 Axes>"
      ]
     },
     "metadata": {
      "needs_background": "light"
     },
     "output_type": "display_data"
    }
   ],
   "source": [
    "import geopandas as gpd\n",
    "kansas_map = gpd.read_file(\"kansas.zip\")\n",
    "kansas_map.plot()"
   ]
  },
  {
   "cell_type": "markdown",
   "id": "b1b2bd84-67c7-4b68-bb35-60729e8eda47",
   "metadata": {},
   "source": [
    "We want to find the county codes for each and match them together to plot on the map"
   ]
  },
  {
   "cell_type": "code",
   "execution_count": 13,
   "id": "6f9f8d86-6bd4-494d-a238-7c8569d6f9c0",
   "metadata": {},
   "outputs": [
    {
     "data": {
      "text/html": [
       "<div>\n",
       "<style scoped>\n",
       "    .dataframe tbody tr th:only-of-type {\n",
       "        vertical-align: middle;\n",
       "    }\n",
       "\n",
       "    .dataframe tbody tr th {\n",
       "        vertical-align: top;\n",
       "    }\n",
       "\n",
       "    .dataframe thead th {\n",
       "        text-align: right;\n",
       "    }\n",
       "</style>\n",
       "<table border=\"1\" class=\"dataframe\">\n",
       "  <thead>\n",
       "    <tr style=\"text-align: right;\">\n",
       "      <th></th>\n",
       "      <th>fips</th>\n",
       "      <th>name</th>\n",
       "      <th>state</th>\n",
       "    </tr>\n",
       "  </thead>\n",
       "  <tbody>\n",
       "    <tr>\n",
       "      <th>0</th>\n",
       "      <td>0</td>\n",
       "      <td>UNITED STATES</td>\n",
       "      <td>NaN</td>\n",
       "    </tr>\n",
       "    <tr>\n",
       "      <th>1</th>\n",
       "      <td>1000</td>\n",
       "      <td>ALABAMA</td>\n",
       "      <td>NaN</td>\n",
       "    </tr>\n",
       "    <tr>\n",
       "      <th>2</th>\n",
       "      <td>1001</td>\n",
       "      <td>Autauga County</td>\n",
       "      <td>AL</td>\n",
       "    </tr>\n",
       "    <tr>\n",
       "      <th>3</th>\n",
       "      <td>1003</td>\n",
       "      <td>Baldwin County</td>\n",
       "      <td>AL</td>\n",
       "    </tr>\n",
       "    <tr>\n",
       "      <th>4</th>\n",
       "      <td>1005</td>\n",
       "      <td>Barbour County</td>\n",
       "      <td>AL</td>\n",
       "    </tr>\n",
       "    <tr>\n",
       "      <th>...</th>\n",
       "      <td>...</td>\n",
       "      <td>...</td>\n",
       "      <td>...</td>\n",
       "    </tr>\n",
       "    <tr>\n",
       "      <th>3190</th>\n",
       "      <td>56037</td>\n",
       "      <td>Sweetwater County</td>\n",
       "      <td>WY</td>\n",
       "    </tr>\n",
       "    <tr>\n",
       "      <th>3191</th>\n",
       "      <td>56039</td>\n",
       "      <td>Teton County</td>\n",
       "      <td>WY</td>\n",
       "    </tr>\n",
       "    <tr>\n",
       "      <th>3192</th>\n",
       "      <td>56041</td>\n",
       "      <td>Uinta County</td>\n",
       "      <td>WY</td>\n",
       "    </tr>\n",
       "    <tr>\n",
       "      <th>3193</th>\n",
       "      <td>56043</td>\n",
       "      <td>Washakie County</td>\n",
       "      <td>WY</td>\n",
       "    </tr>\n",
       "    <tr>\n",
       "      <th>3194</th>\n",
       "      <td>56045</td>\n",
       "      <td>Weston County</td>\n",
       "      <td>WY</td>\n",
       "    </tr>\n",
       "  </tbody>\n",
       "</table>\n",
       "<p>3195 rows × 3 columns</p>\n",
       "</div>"
      ],
      "text/plain": [
       "       fips               name state\n",
       "0         0      UNITED STATES   NaN\n",
       "1      1000            ALABAMA   NaN\n",
       "2      1001     Autauga County    AL\n",
       "3      1003     Baldwin County    AL\n",
       "4      1005     Barbour County    AL\n",
       "...     ...                ...   ...\n",
       "3190  56037  Sweetwater County    WY\n",
       "3191  56039       Teton County    WY\n",
       "3192  56041       Uinta County    WY\n",
       "3193  56043    Washakie County    WY\n",
       "3194  56045      Weston County    WY\n",
       "\n",
       "[3195 rows x 3 columns]"
      ]
     },
     "execution_count": 13,
     "metadata": {},
     "output_type": "execute_result"
    }
   ],
   "source": [
    "fpis = pd.read_csv(\"fips.csv\")\n",
    "fpis"
   ]
  },
  {
   "cell_type": "code",
   "execution_count": 14,
   "id": "111f6fde-0fdd-4ab6-a06f-512b11265212",
   "metadata": {},
   "outputs": [],
   "source": [
    "freq_df = pd.DataFrame({\"County\": location_count.keys(), \"Frequency\": location_count.values()})\n",
    "raw_freq_df = pd.DataFrame({\"County\": raw_location_count.keys(), \"Frequency\": raw_location_count.values()})"
   ]
  },
  {
   "cell_type": "code",
   "execution_count": 15,
   "id": "9c2a110e-7616-4e29-b6df-22e10e968364",
   "metadata": {},
   "outputs": [],
   "source": [
    "freq_df[\"COUNTYFP\"] = 0\n",
    "raw_freq_df[\"COUNTYFP\"] = 0"
   ]
  },
  {
   "cell_type": "code",
   "execution_count": 16,
   "id": "304d1f1b-dbac-4b5d-af79-e2fc648fb094",
   "metadata": {},
   "outputs": [
    {
     "name": "stdout",
     "output_type": "stream",
     "text": [
      "None - NA\n",
      "None - NA\n"
     ]
    }
   ],
   "source": [
    "for index, county in freq_df[\"County\"].iteritems():\n",
    "    name = county.capitalize() + \" County\"\n",
    "    if name == \"Mcpherson County\":\n",
    "        name = \"McPherson County\"\n",
    "    q1 = fpis[fpis[\"name\"] == name]\n",
    "    try:\n",
    "        freq_df.loc[index, \"COUNTYFP\"] = str(q1[q1[\"state\"] == \"KS\"][\"fips\"].iloc[0])[2:]\n",
    "    except Exception as e:\n",
    "        print(\"None - \" + county)\n",
    "\n",
    "for index, county in raw_freq_df[\"County\"].iteritems():\n",
    "    name = county.capitalize() + \" County\"\n",
    "    if name == \"Mcpherson County\":\n",
    "        name = \"McPherson County\"\n",
    "    q1 = fpis[fpis[\"name\"] == name]\n",
    "    try:\n",
    "        raw_freq_df.loc[index, \"COUNTYFP\"] = str(q1[q1[\"state\"] == \"KS\"][\"fips\"].iloc[0])[2:]\n",
    "    except Exception as e:\n",
    "        print(\"None - \" + county)"
   ]
  },
  {
   "cell_type": "markdown",
   "id": "903e65e2-d986-4c28-bd14-7dca1828219d",
   "metadata": {},
   "source": [
    "How many NA's?"
   ]
  },
  {
   "cell_type": "code",
   "execution_count": 17,
   "id": "4434dcdb-98ac-430d-b28c-36526d2fc368",
   "metadata": {},
   "outputs": [
    {
     "data": {
      "text/html": [
       "<div>\n",
       "<style scoped>\n",
       "    .dataframe tbody tr th:only-of-type {\n",
       "        vertical-align: middle;\n",
       "    }\n",
       "\n",
       "    .dataframe tbody tr th {\n",
       "        vertical-align: top;\n",
       "    }\n",
       "\n",
       "    .dataframe thead th {\n",
       "        text-align: right;\n",
       "    }\n",
       "</style>\n",
       "<table border=\"1\" class=\"dataframe\">\n",
       "  <thead>\n",
       "    <tr style=\"text-align: right;\">\n",
       "      <th></th>\n",
       "      <th>County</th>\n",
       "      <th>Frequency</th>\n",
       "      <th>COUNTYFP</th>\n",
       "    </tr>\n",
       "  </thead>\n",
       "  <tbody>\n",
       "    <tr>\n",
       "      <th>48</th>\n",
       "      <td>NA</td>\n",
       "      <td>3</td>\n",
       "      <td>0</td>\n",
       "    </tr>\n",
       "  </tbody>\n",
       "</table>\n",
       "</div>"
      ],
      "text/plain": [
       "   County  Frequency COUNTYFP\n",
       "48     NA          3        0"
      ]
     },
     "execution_count": 17,
     "metadata": {},
     "output_type": "execute_result"
    }
   ],
   "source": [
    "freq_df[freq_df[\"County\"] == \"NA\"]"
   ]
  },
  {
   "cell_type": "markdown",
   "id": "1298f1d9-a295-4bf4-a8b1-866ab2ae6ffb",
   "metadata": {},
   "source": [
    "Now we can join the two together"
   ]
  },
  {
   "cell_type": "code",
   "execution_count": 18,
   "id": "bacb46ff-8887-4dd5-b346-c514ee9f0971",
   "metadata": {},
   "outputs": [
    {
     "data": {
      "text/plain": [
       "121"
      ]
     },
     "execution_count": 18,
     "metadata": {},
     "output_type": "execute_result"
    }
   ],
   "source": [
    "raw_location_count.most_common()[0][1]"
   ]
  },
  {
   "cell_type": "code",
   "execution_count": 19,
   "id": "aa20fc19-78bf-4b0d-9696-0a0e507a1621",
   "metadata": {},
   "outputs": [
    {
     "data": {
      "text/plain": [
       "Text(0.5, 1.0, 'Original Data - 2016')"
      ]
     },
     "execution_count": 19,
     "metadata": {},
     "output_type": "execute_result"
    },
    {
     "data": {
      "image/png": "[encoded data removed]",
      "text/plain": [
       "<Figure size 432x288 with 2 Axes>"
      ]
     },
     "metadata": {
      "needs_background": "light"
     },
     "output_type": "display_data"
    },
    {
     "data": {
      "image/png": "[encoded data removed]",
      "text/plain": [
       "<Figure size 432x288 with 2 Axes>"
      ]
     },
     "metadata": {
      "needs_background": "light"
     },
     "output_type": "display_data"
    }
   ],
   "source": [
    "density_map = kansas_map\n",
    "density_map = density_map.merge(freq_df, on = \"COUNTYFP\", how = \"left\")\n",
    "density_map = density_map.fillna(0)\n",
    "density_map.plot(column=\"Frequency\", cmap='inferno', legend=True, vmax=raw_location_count.most_common()[0][1])\n",
    "plt.title(f\"Filtered Data - {year}\")\n",
    "plt.savefig(f\"maps/filtered_{year}.png\")\n",
    "\n",
    "orignal_map = kansas_map\n",
    "orignal_map = orignal_map.merge(raw_freq_df, on = \"COUNTYFP\", how = \"left\")\n",
    "original_map = orignal_map.fillna(0)\n",
    "original_map.plot(column=\"Frequency\", cmap='inferno', legend=True)\n",
    "plt.title(f\"Original Data - {year}\")"
   ]
  },
  {
   "cell_type": "markdown",
   "id": "57d634db-91e1-4b67-aad2-67285b8dfb20",
   "metadata": {},
   "source": [
    "# Now lets export this Data to a CSV"
   ]
  },
  {
   "cell_type": "code",
   "execution_count": 20,
   "id": "bb70b94b-3a01-4816-b0c9-122c543039b9",
   "metadata": {},
   "outputs": [],
   "source": [
    "dataframes = []\n",
    "for i, w in enumerate(filtered_project):\n",
    "    df = w.df(uwi=True, keys=keys, alias=alias)\n",
    "    df[f\"well_id\"] = [f\"{i}{year}\" for _ in df.index]# Make Id's based of year just in case I want to merge later\n",
    "    df.reset_index()\n",
    "    df.set_index([\"well_id\"])\n",
    "    dataframes.append(df)"
   ]
  },
  {
   "cell_type": "code",
   "execution_count": 21,
   "id": "8bd4145c-f160-4b71-80bc-6700afbaba0a",
   "metadata": {},
   "outputs": [],
   "source": [
    "final_frame = pd.concat(dataframes)"
   ]
  },
  {
   "cell_type": "code",
   "execution_count": 22,
   "id": "8458f3fc-dbd0-4972-97a8-ac8c6c69b012",
   "metadata": {},
   "outputs": [],
   "source": [
    "final_frame.to_csv(f\"export_csv/formated_{year}.csv\")"
   ]
  }
 ],
 "metadata": {
  "kernelspec": {
   "display_name": "Python 3",
   "language": "python",
   "name": "python3"
  },
  "language_info": {
   "codemirror_mode": {
    "name": "ipython",
    "version": 3
   },
   "file_extension": ".py",
   "mimetype": "text/x-python",
   "name": "python",
   "nbconvert_exporter": "python",
   "pygments_lexer": "ipython3",
   "version": "3.8.5"
  }
 },
 "nbformat": 4,
 "nbformat_minor": 5
}
