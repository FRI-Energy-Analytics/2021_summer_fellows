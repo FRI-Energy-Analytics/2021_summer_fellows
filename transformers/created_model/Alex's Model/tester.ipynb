{
 "cells": [
  {
   "cell_type": "code",
   "execution_count": 1,
   "id": "ignored-tablet",
   "metadata": {},
   "outputs": [
    {
     "name": "stdout",
     "output_type": "stream",
     "text": [
      "Downloading data from https://storage.googleapis.com/tensorflow/tf-keras-datasets/train-labels-idx1-ubyte.gz\n",
      "32768/29515 [=================================] - 0s 1us/step\n",
      "Downloading data from https://storage.googleapis.com/tensorflow/tf-keras-datasets/train-images-idx3-ubyte.gz\n",
      "26427392/26421880 [==============================] - 1s 0us/step\n",
      "Downloading data from https://storage.googleapis.com/tensorflow/tf-keras-datasets/t10k-labels-idx1-ubyte.gz\n",
      "8192/5148 [===============================================] - 0s 0us/step\n",
      "Downloading data from https://storage.googleapis.com/tensorflow/tf-keras-datasets/t10k-images-idx3-ubyte.gz\n",
      "4423680/4422102 [==============================] - 0s 0us/step\n"
     ]
    }
   ],
   "source": [
    "import tensorflow as tf\n",
    "from tensorflow import keras\n",
    "\n",
    "(x_train, y_train), (x_val, y_val) = keras.datasets.fashion_mnist.load_data()"
   ]
  },
  {
   "cell_type": "code",
   "execution_count": 2,
   "id": "important-italic",
   "metadata": {},
   "outputs": [],
   "source": [
    "def preprocess(x, y):\n",
    "  x = tf.cast(x, tf.float32) / 255.0\n",
    "  y = tf.cast(y, tf.int64)\n",
    "\n",
    "  return x, y\n",
    "\n",
    "def create_dataset(xs, ys, n_classes=10):\n",
    "  ys = tf.one_hot(ys, depth=n_classes)\n",
    "  return tf.data.Dataset.from_tensor_slices((xs, ys)) \\\n",
    "    .map(preprocess) \\\n",
    "    .shuffle(len(ys)) \\\n",
    "    .batch(128)"
   ]
  },
  {
   "cell_type": "code",
   "execution_count": 3,
   "id": "motivated-rainbow",
   "metadata": {},
   "outputs": [],
   "source": [
    "train_dataset = create_dataset(x_train, y_train)\n",
    "val_dataset = create_dataset(x_val, y_val)"
   ]
  },
  {
   "cell_type": "code",
   "execution_count": 4,
   "id": "assumed-devices",
   "metadata": {},
   "outputs": [],
   "source": [
    "model = keras.Sequential([\n",
    "    keras.layers.Reshape(target_shape=(28 * 28,), input_shape=(28, 28)),\n",
    "    keras.layers.Dense(units=256, activation='relu'),\n",
    "    keras.layers.Dense(units=192, activation='relu'),\n",
    "    keras.layers.Dense(units=128, activation='relu'),\n",
    "    keras.layers.Dense(units=10, activation='softmax')\n",
    "])"
   ]
  },
  {
   "cell_type": "code",
   "execution_count": 5,
   "id": "standing-class",
   "metadata": {},
   "outputs": [
    {
     "name": "stdout",
     "output_type": "stream",
     "text": [
      "Epoch 1/10\n"
     ]
    },
    {
     "name": "stderr",
     "output_type": "stream",
     "text": [
      "C:\\Users\\alexb\\anaconda3\\envs\\energyanalytics\\lib\\site-packages\\tensorflow\\python\\keras\\backend.py:4870: UserWarning: \"`categorical_crossentropy` received `from_logits=True`, but the `output` argument was produced by a sigmoid or softmax activation and thus does not represent logits. Was this intended?\"\n",
      "  '\"`categorical_crossentropy` received `from_logits=True`, but '\n"
     ]
    },
    {
     "name": "stdout",
     "output_type": "stream",
     "text": [
      "500/500 [==============================] - 4s 4ms/step - loss: 0.5087 - accuracy: 0.8193 - val_loss: 0.3980 - val_accuracy: 0.8359\n",
      "Epoch 2/10\n",
      "500/500 [==============================] - 2s 4ms/step - loss: 0.3600 - accuracy: 0.8686 - val_loss: 0.2977 - val_accuracy: 0.8867\n",
      "Epoch 3/10\n",
      "500/500 [==============================] - 2s 4ms/step - loss: 0.3202 - accuracy: 0.8819 - val_loss: 0.3856 - val_accuracy: 0.8828\n",
      "Epoch 4/10\n",
      "500/500 [==============================] - 2s 4ms/step - loss: 0.3031 - accuracy: 0.8874 - val_loss: 0.3760 - val_accuracy: 0.8750\n",
      "Epoch 5/10\n",
      "500/500 [==============================] - 2s 5ms/step - loss: 0.2785 - accuracy: 0.8976 - val_loss: 0.2678 - val_accuracy: 0.9023\n",
      "Epoch 6/10\n",
      "500/500 [==============================] - 2s 3ms/step - loss: 0.2628 - accuracy: 0.9013 - val_loss: 0.3776 - val_accuracy: 0.8711\n",
      "Epoch 7/10\n",
      "500/500 [==============================] - 2s 3ms/step - loss: 0.2545 - accuracy: 0.9035 - val_loss: 0.3040 - val_accuracy: 0.9023\n",
      "Epoch 8/10\n",
      "500/500 [==============================] - 2s 3ms/step - loss: 0.2393 - accuracy: 0.9096 - val_loss: 0.2074 - val_accuracy: 0.9297\n",
      "Epoch 9/10\n",
      "500/500 [==============================] - 2s 3ms/step - loss: 0.2299 - accuracy: 0.9141 - val_loss: 0.3104 - val_accuracy: 0.9062\n",
      "Epoch 10/10\n",
      "500/500 [==============================] - 1s 3ms/step - loss: 0.2224 - accuracy: 0.9163 - val_loss: 0.3625 - val_accuracy: 0.8828\n"
     ]
    }
   ],
   "source": [
    "model.compile(optimizer='adam', \n",
    "              loss=tf.losses.CategoricalCrossentropy(from_logits=True),\n",
    "              metrics=['accuracy'])\n",
    "\n",
    "history = model.fit(\n",
    "    train_dataset.repeat(), \n",
    "    epochs=10, \n",
    "    steps_per_epoch=500,\n",
    "    validation_data=val_dataset.repeat(), \n",
    "    validation_steps=2\n",
    ")"
   ]
  },
  {
   "cell_type": "code",
   "execution_count": null,
   "id": "artificial-destination",
   "metadata": {},
   "outputs": [],
   "source": []
  }
 ],
 "metadata": {
  "kernelspec": {
   "display_name": "Python 3",
   "language": "python",
   "name": "python3"
  },
  "language_info": {
   "codemirror_mode": {
    "name": "ipython",
    "version": 3
   },
   "file_extension": ".py",
   "mimetype": "text/x-python",
   "name": "python",
   "nbconvert_exporter": "python",
   "pygments_lexer": "ipython3",
   "version": "3.6.12"
  }
 },
 "nbformat": 4,
 "nbformat_minor": 5
}
